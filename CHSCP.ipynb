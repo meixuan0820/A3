{
 "cells": [
  {
   "cell_type": "code",
   "execution_count": 1,
   "metadata": {},
   "outputs": [],
   "source": [
    "import pandas as pd\n",
    "import numpy as np\n",
    "import matplotlib.pyplot as plt\n",
    "import seaborn as sns"
   ]
  },
  {
   "cell_type": "code",
   "execution_count": 2,
   "metadata": {},
   "outputs": [],
   "source": [
    "file_path = 'E:\\Deep Learning Fundementals\\A3\\CHSCP.csv'\n",
    "data = pd.read_csv(file_path)"
   ]
  },
  {
   "cell_type": "code",
   "execution_count": 3,
   "metadata": {},
   "outputs": [
    {
     "data": {
      "text/html": [
       "<div>\n",
       "<style scoped>\n",
       "    .dataframe tbody tr th:only-of-type {\n",
       "        vertical-align: middle;\n",
       "    }\n",
       "\n",
       "    .dataframe tbody tr th {\n",
       "        vertical-align: top;\n",
       "    }\n",
       "\n",
       "    .dataframe thead th {\n",
       "        text-align: right;\n",
       "    }\n",
       "</style>\n",
       "<table border=\"1\" class=\"dataframe\">\n",
       "  <thead>\n",
       "    <tr style=\"text-align: right;\">\n",
       "      <th></th>\n",
       "      <th>Date</th>\n",
       "      <th>Low</th>\n",
       "      <th>Open</th>\n",
       "      <th>Volume</th>\n",
       "      <th>High</th>\n",
       "      <th>Close</th>\n",
       "      <th>Adjusted Close</th>\n",
       "    </tr>\n",
       "  </thead>\n",
       "  <tbody>\n",
       "    <tr>\n",
       "      <th>0</th>\n",
       "      <td>24-03-2003</td>\n",
       "      <td>25.799999</td>\n",
       "      <td>26.090000</td>\n",
       "      <td>10300</td>\n",
       "      <td>26.090000</td>\n",
       "      <td>25.799999</td>\n",
       "      <td>6.764163</td>\n",
       "    </tr>\n",
       "    <tr>\n",
       "      <th>1</th>\n",
       "      <td>25-03-2003</td>\n",
       "      <td>25.799999</td>\n",
       "      <td>26.040001</td>\n",
       "      <td>17200</td>\n",
       "      <td>26.040001</td>\n",
       "      <td>25.900000</td>\n",
       "      <td>6.790381</td>\n",
       "    </tr>\n",
       "    <tr>\n",
       "      <th>2</th>\n",
       "      <td>26-03-2003</td>\n",
       "      <td>25.799999</td>\n",
       "      <td>25.799999</td>\n",
       "      <td>14800</td>\n",
       "      <td>26.090000</td>\n",
       "      <td>26.090000</td>\n",
       "      <td>6.840199</td>\n",
       "    </tr>\n",
       "    <tr>\n",
       "      <th>3</th>\n",
       "      <td>27-03-2003</td>\n",
       "      <td>25.950001</td>\n",
       "      <td>26.010000</td>\n",
       "      <td>7900</td>\n",
       "      <td>26.799999</td>\n",
       "      <td>26.799999</td>\n",
       "      <td>7.026339</td>\n",
       "    </tr>\n",
       "    <tr>\n",
       "      <th>4</th>\n",
       "      <td>28-03-2003</td>\n",
       "      <td>26.200001</td>\n",
       "      <td>26.299999</td>\n",
       "      <td>2500</td>\n",
       "      <td>26.299999</td>\n",
       "      <td>26.200001</td>\n",
       "      <td>6.869037</td>\n",
       "    </tr>\n",
       "  </tbody>\n",
       "</table>\n",
       "</div>"
      ],
      "text/plain": [
       "         Date        Low       Open  Volume       High      Close  \\\n",
       "0  24-03-2003  25.799999  26.090000   10300  26.090000  25.799999   \n",
       "1  25-03-2003  25.799999  26.040001   17200  26.040001  25.900000   \n",
       "2  26-03-2003  25.799999  25.799999   14800  26.090000  26.090000   \n",
       "3  27-03-2003  25.950001  26.010000    7900  26.799999  26.799999   \n",
       "4  28-03-2003  26.200001  26.299999    2500  26.299999  26.200001   \n",
       "\n",
       "   Adjusted Close  \n",
       "0        6.764163  \n",
       "1        6.790381  \n",
       "2        6.840199  \n",
       "3        7.026339  \n",
       "4        6.869037  "
      ]
     },
     "execution_count": 3,
     "metadata": {},
     "output_type": "execute_result"
    }
   ],
   "source": [
    "data.head()"
   ]
  },
  {
   "cell_type": "code",
   "execution_count": 4,
   "metadata": {},
   "outputs": [
    {
     "data": {
      "text/html": [
       "<div>\n",
       "<style scoped>\n",
       "    .dataframe tbody tr th:only-of-type {\n",
       "        vertical-align: middle;\n",
       "    }\n",
       "\n",
       "    .dataframe tbody tr th {\n",
       "        vertical-align: top;\n",
       "    }\n",
       "\n",
       "    .dataframe thead th {\n",
       "        text-align: right;\n",
       "    }\n",
       "</style>\n",
       "<table border=\"1\" class=\"dataframe\">\n",
       "  <thead>\n",
       "    <tr style=\"text-align: right;\">\n",
       "      <th></th>\n",
       "      <th>Low</th>\n",
       "      <th>Open</th>\n",
       "      <th>Volume</th>\n",
       "      <th>High</th>\n",
       "      <th>Close</th>\n",
       "      <th>Adjusted Close</th>\n",
       "    </tr>\n",
       "  </thead>\n",
       "  <tbody>\n",
       "    <tr>\n",
       "      <th>count</th>\n",
       "      <td>4967.000000</td>\n",
       "      <td>4967.000000</td>\n",
       "      <td>4967.000000</td>\n",
       "      <td>4967.000000</td>\n",
       "      <td>4967.000000</td>\n",
       "      <td>4967.000000</td>\n",
       "    </tr>\n",
       "    <tr>\n",
       "      <th>mean</th>\n",
       "      <td>28.577302</td>\n",
       "      <td>28.740290</td>\n",
       "      <td>12838.543789</td>\n",
       "      <td>28.893972</td>\n",
       "      <td>28.735610</td>\n",
       "      <td>16.408327</td>\n",
       "    </tr>\n",
       "    <tr>\n",
       "      <th>std</th>\n",
       "      <td>2.142612</td>\n",
       "      <td>2.166507</td>\n",
       "      <td>14670.319245</td>\n",
       "      <td>2.195453</td>\n",
       "      <td>2.169646</td>\n",
       "      <td>6.730917</td>\n",
       "    </tr>\n",
       "    <tr>\n",
       "      <th>min</th>\n",
       "      <td>24.000000</td>\n",
       "      <td>24.500000</td>\n",
       "      <td>0.000000</td>\n",
       "      <td>24.790001</td>\n",
       "      <td>24.500000</td>\n",
       "      <td>6.764163</td>\n",
       "    </tr>\n",
       "    <tr>\n",
       "      <th>25%</th>\n",
       "      <td>26.709999</td>\n",
       "      <td>26.845000</td>\n",
       "      <td>5500.000000</td>\n",
       "      <td>26.950001</td>\n",
       "      <td>26.845000</td>\n",
       "      <td>9.601504</td>\n",
       "    </tr>\n",
       "    <tr>\n",
       "      <th>50%</th>\n",
       "      <td>28.650000</td>\n",
       "      <td>28.879999</td>\n",
       "      <td>9800.000000</td>\n",
       "      <td>29.059999</td>\n",
       "      <td>28.850000</td>\n",
       "      <td>16.386438</td>\n",
       "    </tr>\n",
       "    <tr>\n",
       "      <th>75%</th>\n",
       "      <td>30.190001</td>\n",
       "      <td>30.370001</td>\n",
       "      <td>15800.000000</td>\n",
       "      <td>30.540001</td>\n",
       "      <td>30.330000</td>\n",
       "      <td>21.779474</td>\n",
       "    </tr>\n",
       "    <tr>\n",
       "      <th>max</th>\n",
       "      <td>34.270000</td>\n",
       "      <td>34.419998</td>\n",
       "      <td>368800.000000</td>\n",
       "      <td>34.849998</td>\n",
       "      <td>34.459999</td>\n",
       "      <td>31.853647</td>\n",
       "    </tr>\n",
       "  </tbody>\n",
       "</table>\n",
       "</div>"
      ],
      "text/plain": [
       "               Low         Open         Volume         High        Close  \\\n",
       "count  4967.000000  4967.000000    4967.000000  4967.000000  4967.000000   \n",
       "mean     28.577302    28.740290   12838.543789    28.893972    28.735610   \n",
       "std       2.142612     2.166507   14670.319245     2.195453     2.169646   \n",
       "min      24.000000    24.500000       0.000000    24.790001    24.500000   \n",
       "25%      26.709999    26.845000    5500.000000    26.950001    26.845000   \n",
       "50%      28.650000    28.879999    9800.000000    29.059999    28.850000   \n",
       "75%      30.190001    30.370001   15800.000000    30.540001    30.330000   \n",
       "max      34.270000    34.419998  368800.000000    34.849998    34.459999   \n",
       "\n",
       "       Adjusted Close  \n",
       "count     4967.000000  \n",
       "mean        16.408327  \n",
       "std          6.730917  \n",
       "min          6.764163  \n",
       "25%          9.601504  \n",
       "50%         16.386438  \n",
       "75%         21.779474  \n",
       "max         31.853647  "
      ]
     },
     "execution_count": 4,
     "metadata": {},
     "output_type": "execute_result"
    }
   ],
   "source": [
    "data.describe()"
   ]
  },
  {
   "cell_type": "code",
   "execution_count": 5,
   "metadata": {},
   "outputs": [
    {
     "name": "stdout",
     "output_type": "stream",
     "text": [
      "<class 'pandas.core.frame.DataFrame'>\n",
      "RangeIndex: 4967 entries, 0 to 4966\n",
      "Data columns (total 7 columns):\n",
      " #   Column          Non-Null Count  Dtype  \n",
      "---  ------          --------------  -----  \n",
      " 0   Date            4967 non-null   object \n",
      " 1   Low             4967 non-null   float64\n",
      " 2   Open            4967 non-null   float64\n",
      " 3   Volume          4967 non-null   int64  \n",
      " 4   High            4967 non-null   float64\n",
      " 5   Close           4967 non-null   float64\n",
      " 6   Adjusted Close  4967 non-null   float64\n",
      "dtypes: float64(5), int64(1), object(1)\n",
      "memory usage: 271.8+ KB\n"
     ]
    }
   ],
   "source": [
    "data.info()"
   ]
  },
  {
   "cell_type": "code",
   "execution_count": 6,
   "metadata": {},
   "outputs": [
    {
     "data": {
      "text/plain": [
       "Date              0\n",
       "Low               0\n",
       "Open              0\n",
       "Volume            0\n",
       "High              0\n",
       "Close             0\n",
       "Adjusted Close    0\n",
       "dtype: int64"
      ]
     },
     "execution_count": 6,
     "metadata": {},
     "output_type": "execute_result"
    }
   ],
   "source": [
    "data.isnull().sum() # there is no missing values in the provided dataset"
   ]
  },
  {
   "cell_type": "markdown",
   "metadata": {},
   "source": [
    "### Model Implementation"
   ]
  },
  {
   "cell_type": "code",
   "execution_count": 7,
   "metadata": {},
   "outputs": [],
   "source": [
    "import tensorflow as tf\n",
    "import random\n",
    "import os"
   ]
  },
  {
   "cell_type": "code",
   "execution_count": 8,
   "metadata": {},
   "outputs": [],
   "source": [
    "def set_seed(seed=42):\n",
    "    \n",
    "    os.environ['PYTHONHASHSEED'] = str(seed)\n",
    "    random.seed(seed)\n",
    "    np.random.seed(seed)\n",
    "    tf.random.set_seed(seed)\n",
    "    \n",
    "    os.environ['TF_DETERMINISTIC_OPS'] = '1'\n",
    "\n",
    "set_seed(42)"
   ]
  },
  {
   "cell_type": "markdown",
   "metadata": {},
   "source": [
    "#### Pre-process"
   ]
  },
  {
   "cell_type": "code",
   "execution_count": 9,
   "metadata": {},
   "outputs": [],
   "source": [
    "import numpy as np\n",
    "import pandas as pd\n",
    "import matplotlib.pyplot as plt\n",
    "\n",
    "from sklearn.preprocessing import MinMaxScaler\n",
    "from sklearn.metrics import mean_squared_error, mean_absolute_error, mean_absolute_percentage_error\n",
    "\n",
    "\n",
    "from itertools import product\n",
    "from tensorflow.keras.models import Sequential\n",
    "from tensorflow.keras.layers import Input, Dense, LSTM, GRU, SimpleRNN,  Dropout\n",
    "from tensorflow.keras.callbacks import EarlyStopping\n",
    "from tensorflow.keras.optimizers import Adam\n",
    "from tensorflow.keras.callbacks import ReduceLROnPlateau\n",
    "from tensorflow.keras.losses import MeanSquaredError"
   ]
  },
  {
   "cell_type": "code",
   "execution_count": 10,
   "metadata": {},
   "outputs": [],
   "source": [
    "def create_sequences(data, window_size):\n",
    "    sequences = []\n",
    "    targets = []\n",
    "    for i in range(len(data) - window_size):\n",
    "        seq = data[i:i + window_size]\n",
    "        target = data[i + window_size][0]  # predicting 'Close' price\n",
    "        sequences.append(seq)\n",
    "        targets.append(target)\n",
    "    return np.array(sequences), np.array(targets)"
   ]
  },
  {
   "cell_type": "markdown",
   "metadata": {},
   "source": [
    "### Model Test and Evaluation"
   ]
  },
  {
   "cell_type": "code",
   "execution_count": 11,
   "metadata": {},
   "outputs": [],
   "source": [
    "# split data into training + validation and test sets\n",
    "features = data[['Close', 'Volume']]\n",
    "\n",
    "total_samples = len(features)\n",
    "train_val_size = int(total_samples * 0.85)\n",
    "test_size = total_samples - train_val_size\n",
    "\n",
    "train_val_data = features[:train_val_size]\n",
    "test_data = features[train_val_size:]\n",
    "\n",
    "# Scaling\n",
    "scaler = MinMaxScaler()\n",
    "train_val_scaled = scaler.fit_transform(train_val_data)\n",
    "test_scaled = scaler.transform(test_data)"
   ]
  },
  {
   "cell_type": "code",
   "execution_count": 12,
   "metadata": {},
   "outputs": [
    {
     "name": "stdout",
     "output_type": "stream",
     "text": [
      "(4221, 2) (746, 2)\n"
     ]
    }
   ],
   "source": [
    "print(train_val_data.shape, test_data.shape)"
   ]
  },
  {
   "cell_type": "code",
   "execution_count": 13,
   "metadata": {},
   "outputs": [],
   "source": [
    "window_size = 5\n",
    "\n",
    "X_train_val, y_train_val = create_sequences(train_val_scaled, window_size)\n",
    "X_test, y_test = create_sequences(test_scaled, window_size)\n",
    "\n",
    "n_features = X_train_val.shape[2]\n",
    "X_train_val = X_train_val.reshape((X_train_val.shape[0], X_train_val.shape[1], n_features))\n",
    "X_test = X_test.reshape((X_test.shape[0], X_test.shape[1], n_features))"
   ]
  },
  {
   "cell_type": "markdown",
   "metadata": {},
   "source": [
    "##### Train and Fit"
   ]
  },
  {
   "cell_type": "code",
   "execution_count": 14,
   "metadata": {},
   "outputs": [],
   "source": [
    "set_seed(42)"
   ]
  },
  {
   "cell_type": "code",
   "execution_count": 15,
   "metadata": {},
   "outputs": [],
   "source": [
    "# define models\n",
    "def create_lstm_model(window_size, n_features, learning_rate, hidden_units, dropout_rate, fc_size):\n",
    "\tmodel = Sequential()\n",
    "\tmodel.add(Input(shape=(window_size, n_features)))\n",
    "\tmodel.add(LSTM(hidden_units))\n",
    "\tmodel.add(Dropout(dropout_rate))\n",
    "\tmodel.add(Dense(fc_size, activation='relu'))\n",
    "\tmodel.add(Dense(1))\n",
    "\toptimizer = Adam(learning_rate=learning_rate) # refer to github work original set up number\n",
    "\tcriterion = MeanSquaredError(reduction='sum_over_batch_size')\n",
    "\tmodel.compile(optimizer, loss=criterion)\n",
    "\treturn model\n",
    "\n",
    "def create_gru_model(window_size, n_features, learning_rate, hidden_units, dropout_rate, fc_size):\n",
    "\tmodel = Sequential()\n",
    "\tmodel.add(Input(shape=(window_size, n_features)))\n",
    "\tmodel.add(GRU(hidden_units))\n",
    "\tmodel.add(Dropout(dropout_rate))\n",
    "\tmodel.add(Dense(fc_size, activation='relu'))\n",
    "\tmodel.add(Dense(1))\n",
    "\toptimizer = Adam(learning_rate=learning_rate) # refer to github work original set up number\n",
    "\tcriterion = MeanSquaredError(reduction='sum_over_batch_size')\n",
    "\tmodel.compile(optimizer, loss=criterion)\n",
    "\treturn model\n",
    "\n",
    "def create_rnn_model(window_size, n_features, learning_rate, hidden_units, dropout_rate, fc_size):\n",
    "\tmodel = Sequential()\n",
    "\tmodel.add(Input(shape=(window_size, n_features)))\n",
    "\tmodel.add(SimpleRNN(hidden_units, activation='tanh'))\n",
    "\tmodel.add(Dropout(dropout_rate))\n",
    "\tmodel.add(Dense(fc_size, activation='relu'))\n",
    "\tmodel.add(Dense(1))\n",
    "\toptimizer = Adam(learning_rate=learning_rate) # refer to github work original set up number\n",
    "\tcriterion = MeanSquaredError(reduction='sum_over_batch_size')\n",
    "\tmodel.compile(optimizer, loss=criterion)\n",
    "\treturn model"
   ]
  },
  {
   "cell_type": "code",
   "execution_count": 16,
   "metadata": {},
   "outputs": [],
   "source": [
    "rnn_params = {'learning_rate': 5e-4,'hidden_units': 128, 'dropout_rate': 0.1, 'fc_size': 16}\n",
    "lstm_params = {'learning_rate': 1e-4,'hidden_units': 64, 'dropout_rate': 0.1, 'fc_size': 8}\n",
    "gru_params = {'learning_rate': 1e-4, 'hidden_units': 64, 'dropout_rate': 0.3, 'fc_size': 32}"
   ]
  },
  {
   "cell_type": "code",
   "execution_count": 17,
   "metadata": {},
   "outputs": [],
   "source": [
    "model_rnn = create_rnn_model(window_size, n_features, **rnn_params)\n",
    "model_lstm = create_lstm_model(window_size, n_features, **lstm_params)\n",
    "model_gru = create_gru_model(window_size, n_features, **gru_params)"
   ]
  },
  {
   "cell_type": "code",
   "execution_count": 18,
   "metadata": {},
   "outputs": [],
   "source": [
    "reduce_lr = ReduceLROnPlateau(monitor='loss', factor=0.5, patience=5, min_lr=1e-6)\n",
    "callbacks = [reduce_lr]"
   ]
  },
  {
   "cell_type": "code",
   "execution_count": 19,
   "metadata": {},
   "outputs": [],
   "source": [
    "history_lstm = model_lstm.fit(X_train_val, y_train_val, epochs=30, batch_size=32, shuffle=False, callbacks=callbacks, verbose=0)\n",
    "history_gru = model_gru.fit(X_train_val, y_train_val, epochs=30, batch_size=32, shuffle=False, callbacks=callbacks, verbose=0)\n",
    "history_rnn = model_rnn.fit(X_train_val, y_train_val, epochs=30, batch_size=32, shuffle=False,callbacks=callbacks, verbose=0)"
   ]
  },
  {
   "cell_type": "markdown",
   "metadata": {},
   "source": [
    "##### Test Evaluaiton"
   ]
  },
  {
   "cell_type": "code",
   "execution_count": 20,
   "metadata": {},
   "outputs": [
    {
     "name": "stdout",
     "output_type": "stream",
     "text": [
      "\u001b[1m24/24\u001b[0m \u001b[32m━━━━━━━━━━━━━━━━━━━━\u001b[0m\u001b[37m\u001b[0m \u001b[1m0s\u001b[0m 10ms/step\n",
      "\u001b[1m24/24\u001b[0m \u001b[32m━━━━━━━━━━━━━━━━━━━━\u001b[0m\u001b[37m\u001b[0m \u001b[1m0s\u001b[0m 9ms/step\n",
      "\u001b[1m24/24\u001b[0m \u001b[32m━━━━━━━━━━━━━━━━━━━━\u001b[0m\u001b[37m\u001b[0m \u001b[1m0s\u001b[0m 6ms/step\n"
     ]
    }
   ],
   "source": [
    "y_pred_lstm = model_lstm.predict(X_test)\n",
    "y_pred_gru = model_gru.predict(X_test)\n",
    "y_pred_rnn = model_rnn.predict(X_test)"
   ]
  },
  {
   "cell_type": "code",
   "execution_count": 21,
   "metadata": {},
   "outputs": [],
   "source": [
    "y_pred_lstm_inv = scaler.inverse_transform(np.concatenate([y_pred_lstm, np.zeros((y_pred_lstm.shape[0], n_features - 1))], axis=1))[:, 0]\n",
    "y_pred_gru_inv = scaler.inverse_transform(np.concatenate([y_pred_gru, np.zeros((y_pred_gru.shape[0], n_features - 1))], axis=1))[:, 0]\n",
    "y_pred_rnn_inv = scaler.inverse_transform(np.concatenate([y_pred_rnn, np.zeros((y_pred_rnn.shape[0], n_features - 1))], axis=1))[:, 0]\n",
    "\n",
    "y_test_actual_inv  = scaler.inverse_transform(np.concatenate([y_test.reshape(-1, 1), np.zeros((y_test.shape[0], n_features - 1))], axis=1))[:, 0]"
   ]
  },
  {
   "cell_type": "code",
   "execution_count": 22,
   "metadata": {},
   "outputs": [],
   "source": [
    "test_lstm_rmse = np.sqrt(mean_squared_error(y_test_actual_inv, y_pred_lstm_inv))\n",
    "test_lstm_mae = mean_absolute_error(y_test_actual_inv, y_pred_lstm_inv)\n",
    "test_lstm_mape = mean_absolute_percentage_error(y_test_actual_inv, y_pred_lstm_inv) * 100\n",
    "test_lstm_direction_actual = np.sign(np.diff(y_test_actual_inv))\n",
    "test_lstm_direction_pred = np.sign(np.diff(y_pred_lstm_inv))\n",
    "test_lstm_directional_accuracy = np.mean(test_lstm_direction_actual == test_lstm_direction_pred) * 100"
   ]
  },
  {
   "cell_type": "code",
   "execution_count": 23,
   "metadata": {},
   "outputs": [],
   "source": [
    "test_gru_rmse = np.sqrt(mean_squared_error(y_test_actual_inv, y_pred_gru_inv))\n",
    "test_gru_mae = mean_absolute_error(y_test_actual_inv, y_pred_gru_inv)\n",
    "test_gru_mape = mean_absolute_percentage_error(y_test_actual_inv, y_pred_gru_inv) * 100\n",
    "test_gru_direction_actual = np.sign(np.diff(y_test_actual_inv))\n",
    "test_gru_direction_pred = np.sign(np.diff(y_pred_gru_inv))\n",
    "test_gru_directional_accuracy = np.mean(test_gru_direction_actual == test_gru_direction_pred) * 100"
   ]
  },
  {
   "cell_type": "code",
   "execution_count": 24,
   "metadata": {},
   "outputs": [],
   "source": [
    "test_rnn_rmse = np.sqrt(mean_squared_error(y_test_actual_inv, y_pred_rnn_inv))\n",
    "test_rnn_mae = mean_absolute_error(y_test_actual_inv, y_pred_rnn_inv)\n",
    "test_rnn_mape = mean_absolute_percentage_error(y_test_actual_inv, y_pred_rnn_inv) * 100\n",
    "test_rnn_direction_actual = np.sign(np.diff(y_test_actual_inv))\n",
    "test_rnn_direction_pred = np.sign(np.diff(y_pred_rnn_inv))\n",
    "test_rnn_directional_accuracy = np.mean(test_rnn_direction_actual == test_rnn_direction_pred) * 100"
   ]
  },
  {
   "cell_type": "code",
   "execution_count": 25,
   "metadata": {},
   "outputs": [
    {
     "name": "stdout",
     "output_type": "stream",
     "text": [
      "       Model  Leanring Rate  Hidden Units  Dropout Rate  FC Size      RMSE  \\\n",
      "0       LSTM         0.0001            64           0.1        8  0.450548   \n",
      "1        GRU         0.0001            64           0.3       32  0.488877   \n",
      "2  SimpleRNN         0.0005           128           0.1       16  0.304102   \n",
      "\n",
      "        MAE  MAPE (%)  Directional Accuracy (%)  \n",
      "0  0.309231  1.061903                 49.459459  \n",
      "1  0.407323  1.367153                 47.837838  \n",
      "2  0.220375  0.750745                 47.297297  \n"
     ]
    }
   ],
   "source": [
    "results = pd.DataFrame({\n",
    "    'Model': ['LSTM', 'GRU', 'SimpleRNN'],\n",
    "    'Leanring Rate':  [lstm_params['learning_rate'], gru_params['learning_rate'], rnn_params['learning_rate']],\n",
    "    'Hidden Units': [lstm_params['hidden_units'], gru_params['hidden_units'], rnn_params['hidden_units']],\n",
    "    'Dropout Rate': [lstm_params['dropout_rate'], gru_params['dropout_rate'], rnn_params['dropout_rate']],\n",
    "    'FC Size': [lstm_params['fc_size'], gru_params['fc_size'], rnn_params['fc_size']],\n",
    "    'RMSE': [test_lstm_rmse, test_gru_rmse, test_rnn_rmse],\n",
    "    'MAE': [test_lstm_mae, test_gru_mae, test_rnn_mae],\n",
    "    'MAPE (%)': [test_lstm_mape, test_gru_mape, test_rnn_mape],\n",
    "    'Directional Accuracy (%)': [\n",
    "        test_lstm_directional_accuracy,\n",
    "        test_gru_directional_accuracy,\n",
    "        test_rnn_directional_accuracy\n",
    "    ]\n",
    "})\n",
    "\n",
    "# Display the DataFrame\n",
    "print(results)"
   ]
  },
  {
   "cell_type": "markdown",
   "metadata": {},
   "source": [
    "##### Visiluization"
   ]
  },
  {
   "cell_type": "code",
   "execution_count": 26,
   "metadata": {},
   "outputs": [
    {
     "data": {
      "image/png": "[encoded data removed]",
      "text/plain": [
       "<Figure size 600x500 with 1 Axes>"
      ]
     },
     "metadata": {},
     "output_type": "display_data"
    }
   ],
   "source": [
    "plt.figure(figsize=(6, 5))\n",
    "plt.plot(y_test_actual_inv, label='Actual Close Price', color='blue')\n",
    "plt.plot(y_pred_lstm_inv, label='LSTM Predicted Close Price', color='red')\n",
    "plt.plot(y_pred_gru_inv, label='GRU Predicted Close Price', color='green')\n",
    "# plt.plot(y_pred_rnn_inv, label='RNN Predicted Close Price', color='orange')\n",
    "plt.title('Actual vs. Predicted Close Prices on Test Set')\n",
    "plt.xlabel('Time Steps')\n",
    "plt.ylabel('Price')\n",
    "plt.legend()\n",
    "plt.show()"
   ]
  },
  {
   "cell_type": "code",
   "execution_count": 27,
   "metadata": {},
   "outputs": [
    {
     "data": {
      "image/png": "[encoded data removed]",
      "text/plain": [
       "<Figure size 800x600 with 1 Axes>"
      ]
     },
     "metadata": {},
     "output_type": "display_data"
    }
   ],
   "source": [
    "plt.figure(figsize=(8, 6))\n",
    "plt.plot(history_lstm.history['loss'], label='LSTM Training Loss', color='red')\n",
    "plt.plot(history_gru.history['loss'], label='GRU Training Loss', color='green')\n",
    "plt.plot(history_rnn.history['loss'], label='RNN Training Loss', color='orange')\n",
    "plt.title('Models Loss')\n",
    "plt.xlabel('Epoch')\n",
    "plt.ylabel('Loss')\n",
    "plt.legend()\n",
    "plt.show()"
   ]
  }
 ],
 "metadata": {
  "kernelspec": {
   "display_name": "base",
   "language": "python",
   "name": "python3"
  },
  "language_info": {
   "codemirror_mode": {
    "name": "ipython",
    "version": 3
   },
   "file_extension": ".py",
   "mimetype": "text/x-python",
   "name": "python",
   "nbconvert_exporter": "python",
   "pygments_lexer": "ipython3",
   "version": "3.11.5"
  }
 },
 "nbformat": 4,
 "nbformat_minor": 2
}
